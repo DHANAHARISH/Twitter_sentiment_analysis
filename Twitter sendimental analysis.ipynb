{
 "cells": [
  {
   "cell_type": "markdown",
   "id": "f25ef6ff-ec92-46d6-8696-19a4966b437a",
   "metadata": {},
   "source": [
    "# importing libraries"
   ]
  },
  {
   "cell_type": "code",
   "execution_count": 1,
   "id": "e4eca5b6",
   "metadata": {},
   "outputs": [],
   "source": [
    "import pandas as pd \n",
    "import numpy as np \n",
    "import seaborn as sns\n",
    "import matplotlib .pyplot as plt\n",
    "import joblib as jb \n",
    "from sklearn.preprocessing import OrdinalEncoder\n",
    "from sklearn.impute import KNNImputer\n",
    "from sklearn .model_selection import train_test_split\n",
    "from sklearn.ensemble import RandomForestRegressor\n",
    "from sklearn.tree import plot_tree\n",
    "from sklearn.metrics import classification_report,confusion_matrix,ConfusionMatrixDisplay\n",
    "import warnings\n",
    "warnings.filterwarnings('ignore')\n"
   ]
  },
  {
   "cell_type": "markdown",
   "id": "885e11a0-3fc7-43cf-8ac1-0a75f5fe8f9b",
   "metadata": {},
   "source": [
    "# Data Read "
   ]
  },
  {
   "cell_type": "code",
   "execution_count": 2,
   "id": "c6a23fc7-e7c8-4265-9fdf-b201ae5f77a1",
   "metadata": {},
   "outputs": [],
   "source": [
    "# increase the default column\n",
    "pd.set_option('display.max_rows', 100)\n",
    "pd.set_option('display.max_columns', 100)"
   ]
  },
  {
   "cell_type": "code",
   "execution_count": 3,
   "id": "7890255f",
   "metadata": {},
   "outputs": [
    {
     "data": {
      "text/html": [
       "<div>\n",
       "<style scoped>\n",
       "    .dataframe tbody tr th:only-of-type {\n",
       "        vertical-align: middle;\n",
       "    }\n",
       "\n",
       "    .dataframe tbody tr th {\n",
       "        vertical-align: top;\n",
       "    }\n",
       "\n",
       "    .dataframe thead th {\n",
       "        text-align: right;\n",
       "    }\n",
       "</style>\n",
       "<table border=\"1\" class=\"dataframe\">\n",
       "  <thead>\n",
       "    <tr style=\"text-align: right;\">\n",
       "      <th></th>\n",
       "      <th>2401</th>\n",
       "      <th>Borderlands</th>\n",
       "      <th>Positive</th>\n",
       "      <th>im getting on borderlands and i will murder you all ,</th>\n",
       "    </tr>\n",
       "  </thead>\n",
       "  <tbody>\n",
       "    <tr>\n",
       "      <th>0</th>\n",
       "      <td>6822</td>\n",
       "      <td>johnson&amp;johnson</td>\n",
       "      <td>Irrelevant</td>\n",
       "      <td>Offend Ugandan moms and soon become moms... Af...</td>\n",
       "    </tr>\n",
       "    <tr>\n",
       "      <th>1</th>\n",
       "      <td>8286</td>\n",
       "      <td>Microsoft</td>\n",
       "      <td>Negative</td>\n",
       "      <td>in Apparently Microsoft is buying the TikTok, ...</td>\n",
       "    </tr>\n",
       "    <tr>\n",
       "      <th>2</th>\n",
       "      <td>4322</td>\n",
       "      <td>CS-GO</td>\n",
       "      <td>Neutral</td>\n",
       "      <td>. NEW VIDEO!.. Getting bullied again on CSGO.....</td>\n",
       "    </tr>\n",
       "    <tr>\n",
       "      <th>3</th>\n",
       "      <td>2329</td>\n",
       "      <td>CallOfDuty</td>\n",
       "      <td>Positive</td>\n",
       "      <td>A good little session on COD before - complete...</td>\n",
       "    </tr>\n",
       "    <tr>\n",
       "      <th>4</th>\n",
       "      <td>1543</td>\n",
       "      <td>Battlefield</td>\n",
       "      <td>Irrelevant</td>\n",
       "      <td>Thanks to Captain @R_FL3X last night as for th...</td>\n",
       "    </tr>\n",
       "    <tr>\n",
       "      <th>...</th>\n",
       "      <td>...</td>\n",
       "      <td>...</td>\n",
       "      <td>...</td>\n",
       "      <td>...</td>\n",
       "    </tr>\n",
       "    <tr>\n",
       "      <th>37335</th>\n",
       "      <td>6200</td>\n",
       "      <td>FIFA</td>\n",
       "      <td>Negative</td>\n",
       "      <td>Never been more disinterested here in Fifa and...</td>\n",
       "    </tr>\n",
       "    <tr>\n",
       "      <th>37336</th>\n",
       "      <td>2497</td>\n",
       "      <td>Borderlands</td>\n",
       "      <td>Neutral</td>\n",
       "      <td>The best deals so far: FIFA 20 $18, Borderland...</td>\n",
       "    </tr>\n",
       "    <tr>\n",
       "      <th>37337</th>\n",
       "      <td>9608</td>\n",
       "      <td>PlayStation5(PS5)</td>\n",
       "      <td>Negative</td>\n",
       "      <td>God when...</td>\n",
       "    </tr>\n",
       "    <tr>\n",
       "      <th>37338</th>\n",
       "      <td>10134</td>\n",
       "      <td>PlayerUnknownsBattlegrounds(PUBG)</td>\n",
       "      <td>Neutral</td>\n",
       "      <td>When . } Then .</td>\n",
       "    </tr>\n",
       "    <tr>\n",
       "      <th>37339</th>\n",
       "      <td>7563</td>\n",
       "      <td>LeagueOfLegends</td>\n",
       "      <td>Neutral</td>\n",
       "      <td>ONE OF THE BEST ADCS - ' GOSU approved '. TFT ...</td>\n",
       "    </tr>\n",
       "  </tbody>\n",
       "</table>\n",
       "<p>37340 rows × 4 columns</p>\n",
       "</div>"
      ],
      "text/plain": [
       "        2401                        Borderlands    Positive  \\\n",
       "0       6822                    johnson&johnson  Irrelevant   \n",
       "1       8286                          Microsoft    Negative   \n",
       "2       4322                              CS-GO     Neutral   \n",
       "3       2329                         CallOfDuty    Positive   \n",
       "4       1543                        Battlefield  Irrelevant   \n",
       "...      ...                                ...         ...   \n",
       "37335   6200                               FIFA    Negative   \n",
       "37336   2497                        Borderlands     Neutral   \n",
       "37337   9608                  PlayStation5(PS5)    Negative   \n",
       "37338  10134  PlayerUnknownsBattlegrounds(PUBG)     Neutral   \n",
       "37339   7563                    LeagueOfLegends     Neutral   \n",
       "\n",
       "      im getting on borderlands and i will murder you all ,  \n",
       "0      Offend Ugandan moms and soon become moms... Af...     \n",
       "1      in Apparently Microsoft is buying the TikTok, ...     \n",
       "2      . NEW VIDEO!.. Getting bullied again on CSGO.....     \n",
       "3      A good little session on COD before - complete...     \n",
       "4      Thanks to Captain @R_FL3X last night as for th...     \n",
       "...                                                  ...     \n",
       "37335  Never been more disinterested here in Fifa and...     \n",
       "37336  The best deals so far: FIFA 20 $18, Borderland...     \n",
       "37337                                        God when...     \n",
       "37338                                    When . } Then .     \n",
       "37339  ONE OF THE BEST ADCS - ' GOSU approved '. TFT ...     \n",
       "\n",
       "[37340 rows x 4 columns]"
      ]
     },
     "execution_count": 3,
     "metadata": {},
     "output_type": "execute_result"
    }
   ],
   "source": [
    "df=pd.read_csv('D:/DS NOTE/my projects/files/train/raw/train.csv')\n",
    "df"
   ]
  },
  {
   "cell_type": "markdown",
   "id": "a16c6606-b78a-4d42-9004-d54bdd10cefa",
   "metadata": {},
   "source": [
    "# Data preprocessing "
   ]
  },
  {
   "cell_type": "code",
   "execution_count": 4,
   "id": "ec217af5",
   "metadata": {},
   "outputs": [
    {
     "name": "stdout",
     "output_type": "stream",
     "text": [
      "<class 'pandas.core.frame.DataFrame'>\n",
      "RangeIndex: 37340 entries, 0 to 37339\n",
      "Data columns (total 4 columns):\n",
      " #   Column                                                 Non-Null Count  Dtype \n",
      "---  ------                                                 --------------  ----- \n",
      " 0   2401                                                   37340 non-null  int64 \n",
      " 1   Borderlands                                            37340 non-null  object\n",
      " 2   Positive                                               37340 non-null  object\n",
      " 3   im getting on borderlands and i will murder you all ,  37025 non-null  object\n",
      "dtypes: int64(1), object(3)\n",
      "memory usage: 1.1+ MB\n"
     ]
    }
   ],
   "source": [
    "df.info()"
   ]
  },
  {
   "cell_type": "code",
   "execution_count": 5,
   "id": "ccfd5d0d",
   "metadata": {},
   "outputs": [
    {
     "data": {
      "text/plain": [
       "757"
      ]
     },
     "execution_count": 5,
     "metadata": {},
     "output_type": "execute_result"
    }
   ],
   "source": [
    "# Return boolean Series denoting duplicate rows\n",
    "df.duplicated().sum() "
   ]
  },
  {
   "cell_type": "code",
   "execution_count": 6,
   "id": "b22c1d92",
   "metadata": {},
   "outputs": [
    {
     "data": {
      "text/html": [
       "<div>\n",
       "<style scoped>\n",
       "    .dataframe tbody tr th:only-of-type {\n",
       "        vertical-align: middle;\n",
       "    }\n",
       "\n",
       "    .dataframe tbody tr th {\n",
       "        vertical-align: top;\n",
       "    }\n",
       "\n",
       "    .dataframe thead th {\n",
       "        text-align: right;\n",
       "    }\n",
       "</style>\n",
       "<table border=\"1\" class=\"dataframe\">\n",
       "  <thead>\n",
       "    <tr style=\"text-align: right;\">\n",
       "      <th></th>\n",
       "      <th>2401</th>\n",
       "      <th>Borderlands</th>\n",
       "      <th>Positive</th>\n",
       "      <th>im getting on borderlands and i will murder you all ,</th>\n",
       "    </tr>\n",
       "  </thead>\n",
       "  <tbody>\n",
       "    <tr>\n",
       "      <th>0</th>\n",
       "      <td>6822</td>\n",
       "      <td>johnson&amp;johnson</td>\n",
       "      <td>Irrelevant</td>\n",
       "      <td>Offend Ugandan moms and soon become moms... Af...</td>\n",
       "    </tr>\n",
       "    <tr>\n",
       "      <th>1</th>\n",
       "      <td>8286</td>\n",
       "      <td>Microsoft</td>\n",
       "      <td>Negative</td>\n",
       "      <td>in Apparently Microsoft is buying the TikTok, ...</td>\n",
       "    </tr>\n",
       "    <tr>\n",
       "      <th>2</th>\n",
       "      <td>4322</td>\n",
       "      <td>CS-GO</td>\n",
       "      <td>Neutral</td>\n",
       "      <td>. NEW VIDEO!.. Getting bullied again on CSGO.....</td>\n",
       "    </tr>\n",
       "    <tr>\n",
       "      <th>3</th>\n",
       "      <td>2329</td>\n",
       "      <td>CallOfDuty</td>\n",
       "      <td>Positive</td>\n",
       "      <td>A good little session on COD before - complete...</td>\n",
       "    </tr>\n",
       "    <tr>\n",
       "      <th>4</th>\n",
       "      <td>1543</td>\n",
       "      <td>Battlefield</td>\n",
       "      <td>Irrelevant</td>\n",
       "      <td>Thanks to Captain @R_FL3X last night as for th...</td>\n",
       "    </tr>\n",
       "    <tr>\n",
       "      <th>...</th>\n",
       "      <td>...</td>\n",
       "      <td>...</td>\n",
       "      <td>...</td>\n",
       "      <td>...</td>\n",
       "    </tr>\n",
       "    <tr>\n",
       "      <th>37335</th>\n",
       "      <td>6200</td>\n",
       "      <td>FIFA</td>\n",
       "      <td>Negative</td>\n",
       "      <td>Never been more disinterested here in Fifa and...</td>\n",
       "    </tr>\n",
       "    <tr>\n",
       "      <th>37336</th>\n",
       "      <td>2497</td>\n",
       "      <td>Borderlands</td>\n",
       "      <td>Neutral</td>\n",
       "      <td>The best deals so far: FIFA 20 $18, Borderland...</td>\n",
       "    </tr>\n",
       "    <tr>\n",
       "      <th>37337</th>\n",
       "      <td>9608</td>\n",
       "      <td>PlayStation5(PS5)</td>\n",
       "      <td>Negative</td>\n",
       "      <td>God when...</td>\n",
       "    </tr>\n",
       "    <tr>\n",
       "      <th>37338</th>\n",
       "      <td>10134</td>\n",
       "      <td>PlayerUnknownsBattlegrounds(PUBG)</td>\n",
       "      <td>Neutral</td>\n",
       "      <td>When . } Then .</td>\n",
       "    </tr>\n",
       "    <tr>\n",
       "      <th>37339</th>\n",
       "      <td>7563</td>\n",
       "      <td>LeagueOfLegends</td>\n",
       "      <td>Neutral</td>\n",
       "      <td>ONE OF THE BEST ADCS - ' GOSU approved '. TFT ...</td>\n",
       "    </tr>\n",
       "  </tbody>\n",
       "</table>\n",
       "<p>36583 rows × 4 columns</p>\n",
       "</div>"
      ],
      "text/plain": [
       "        2401                        Borderlands    Positive  \\\n",
       "0       6822                    johnson&johnson  Irrelevant   \n",
       "1       8286                          Microsoft    Negative   \n",
       "2       4322                              CS-GO     Neutral   \n",
       "3       2329                         CallOfDuty    Positive   \n",
       "4       1543                        Battlefield  Irrelevant   \n",
       "...      ...                                ...         ...   \n",
       "37335   6200                               FIFA    Negative   \n",
       "37336   2497                        Borderlands     Neutral   \n",
       "37337   9608                  PlayStation5(PS5)    Negative   \n",
       "37338  10134  PlayerUnknownsBattlegrounds(PUBG)     Neutral   \n",
       "37339   7563                    LeagueOfLegends     Neutral   \n",
       "\n",
       "      im getting on borderlands and i will murder you all ,  \n",
       "0      Offend Ugandan moms and soon become moms... Af...     \n",
       "1      in Apparently Microsoft is buying the TikTok, ...     \n",
       "2      . NEW VIDEO!.. Getting bullied again on CSGO.....     \n",
       "3      A good little session on COD before - complete...     \n",
       "4      Thanks to Captain @R_FL3X last night as for th...     \n",
       "...                                                  ...     \n",
       "37335  Never been more disinterested here in Fifa and...     \n",
       "37336  The best deals so far: FIFA 20 $18, Borderland...     \n",
       "37337                                        God when...     \n",
       "37338                                    When . } Then .     \n",
       "37339  ONE OF THE BEST ADCS - ' GOSU approved '. TFT ...     \n",
       "\n",
       "[36583 rows x 4 columns]"
      ]
     },
     "execution_count": 6,
     "metadata": {},
     "output_type": "execute_result"
    }
   ],
   "source": [
    "#Return DataFrame with duplicate rows removed\n",
    "df.drop_duplicates()\n"
   ]
  },
  {
   "cell_type": "code",
   "execution_count": 7,
   "id": "6937eb08",
   "metadata": {},
   "outputs": [
    {
     "data": {
      "text/plain": [
       "2401                                                       0\n",
       "Borderlands                                                0\n",
       "Positive                                                   0\n",
       "im getting on borderlands and i will murder you all ,    315\n",
       "dtype: int64"
      ]
     },
     "execution_count": 7,
     "metadata": {},
     "output_type": "execute_result"
    }
   ],
   "source": [
    "# Detect missing values\n",
    "df.isnull().sum()"
   ]
  },
  {
   "cell_type": "code",
   "execution_count": 8,
   "id": "f9a98583-1491-479b-84cb-5ba00f766e9f",
   "metadata": {},
   "outputs": [
    {
     "data": {
      "text/html": [
       "<div>\n",
       "<style scoped>\n",
       "    .dataframe tbody tr th:only-of-type {\n",
       "        vertical-align: middle;\n",
       "    }\n",
       "\n",
       "    .dataframe tbody tr th {\n",
       "        vertical-align: top;\n",
       "    }\n",
       "\n",
       "    .dataframe thead th {\n",
       "        text-align: right;\n",
       "    }\n",
       "</style>\n",
       "<table border=\"1\" class=\"dataframe\">\n",
       "  <thead>\n",
       "    <tr style=\"text-align: right;\">\n",
       "      <th></th>\n",
       "      <th>2401</th>\n",
       "    </tr>\n",
       "  </thead>\n",
       "  <tbody>\n",
       "    <tr>\n",
       "      <th>count</th>\n",
       "      <td>37340.000000</td>\n",
       "    </tr>\n",
       "    <tr>\n",
       "      <th>mean</th>\n",
       "      <td>6446.643091</td>\n",
       "    </tr>\n",
       "    <tr>\n",
       "      <th>std</th>\n",
       "      <td>3739.416380</td>\n",
       "    </tr>\n",
       "    <tr>\n",
       "      <th>min</th>\n",
       "      <td>1.000000</td>\n",
       "    </tr>\n",
       "    <tr>\n",
       "      <th>25%</th>\n",
       "      <td>3202.000000</td>\n",
       "    </tr>\n",
       "    <tr>\n",
       "      <th>50%</th>\n",
       "      <td>6439.500000</td>\n",
       "    </tr>\n",
       "    <tr>\n",
       "      <th>75%</th>\n",
       "      <td>9615.000000</td>\n",
       "    </tr>\n",
       "    <tr>\n",
       "      <th>max</th>\n",
       "      <td>13200.000000</td>\n",
       "    </tr>\n",
       "  </tbody>\n",
       "</table>\n",
       "</div>"
      ],
      "text/plain": [
       "               2401\n",
       "count  37340.000000\n",
       "mean    6446.643091\n",
       "std     3739.416380\n",
       "min        1.000000\n",
       "25%     3202.000000\n",
       "50%     6439.500000\n",
       "75%     9615.000000\n",
       "max    13200.000000"
      ]
     },
     "execution_count": 8,
     "metadata": {},
     "output_type": "execute_result"
    }
   ],
   "source": [
    "# Generate descriptive statistics.\n",
    "df.describe()"
   ]
  },
  {
   "cell_type": "code",
   "execution_count": 9,
   "id": "1a4f4508-cb1b-44c5-81a2-24462b88902c",
   "metadata": {},
   "outputs": [
    {
     "data": {
      "text/plain": [
       "Positive\n",
       "Negative      11371\n",
       "Positive      10394\n",
       "Neutral        9261\n",
       "Irrelevant     6314\n",
       "Name: count, dtype: int64"
      ]
     },
     "execution_count": 9,
     "metadata": {},
     "output_type": "execute_result"
    }
   ],
   "source": [
    "df['Positive'].value_counts()"
   ]
  },
  {
   "cell_type": "code",
   "execution_count": 10,
   "id": "3926ae78-c002-4cac-8d75-5b70a5f6ddf7",
   "metadata": {},
   "outputs": [
    {
     "data": {
      "text/plain": [
       "0        2\n",
       "1        1\n",
       "2        3\n",
       "3        0\n",
       "4        2\n",
       "        ..\n",
       "37335    1\n",
       "37336    3\n",
       "37337    1\n",
       "37338    3\n",
       "37339    3\n",
       "Name: Positive, Length: 37340, dtype: int64"
      ]
     },
     "execution_count": 10,
     "metadata": {},
     "output_type": "execute_result"
    }
   ],
   "source": [
    "df['Positive']=df['Positive'].replace({'Positive':0,'Negative':1,'Irrelevant':2,'Neutral':3})\n",
    "df['Positive']"
   ]
  },
  {
   "cell_type": "markdown",
   "id": "25fe93e9-049a-4cb8-bd20-a24db1aebd93",
   "metadata": {},
   "source": [
    "# Data split"
   ]
  },
  {
   "cell_type": "code",
   "execution_count": 11,
   "id": "d511fddd-8351-432e-8c8d-c9fda6ed0bc8",
   "metadata": {},
   "outputs": [],
   "source": [
    "df1=df.copy()\n",
    "X=df1.drop('Positive',axis=1).copy()\n",
    "Y=df1['Positive'].copy()"
   ]
  },
  {
   "cell_type": "code",
   "execution_count": 12,
   "id": "d75ba3f7-b7ca-416b-a9fa-a67392ab6254",
   "metadata": {},
   "outputs": [
    {
     "data": {
      "text/html": [
       "<div>\n",
       "<style scoped>\n",
       "    .dataframe tbody tr th:only-of-type {\n",
       "        vertical-align: middle;\n",
       "    }\n",
       "\n",
       "    .dataframe tbody tr th {\n",
       "        vertical-align: top;\n",
       "    }\n",
       "\n",
       "    .dataframe thead th {\n",
       "        text-align: right;\n",
       "    }\n",
       "</style>\n",
       "<table border=\"1\" class=\"dataframe\">\n",
       "  <thead>\n",
       "    <tr style=\"text-align: right;\">\n",
       "      <th></th>\n",
       "      <th>2401</th>\n",
       "      <th>Borderlands</th>\n",
       "      <th>im getting on borderlands and i will murder you all ,</th>\n",
       "    </tr>\n",
       "  </thead>\n",
       "  <tbody>\n",
       "    <tr>\n",
       "      <th>0</th>\n",
       "      <td>6822</td>\n",
       "      <td>johnson&amp;johnson</td>\n",
       "      <td>Offend Ugandan moms and soon become moms... Af...</td>\n",
       "    </tr>\n",
       "    <tr>\n",
       "      <th>1</th>\n",
       "      <td>8286</td>\n",
       "      <td>Microsoft</td>\n",
       "      <td>in Apparently Microsoft is buying the TikTok, ...</td>\n",
       "    </tr>\n",
       "    <tr>\n",
       "      <th>2</th>\n",
       "      <td>4322</td>\n",
       "      <td>CS-GO</td>\n",
       "      <td>. NEW VIDEO!.. Getting bullied again on CSGO.....</td>\n",
       "    </tr>\n",
       "    <tr>\n",
       "      <th>3</th>\n",
       "      <td>2329</td>\n",
       "      <td>CallOfDuty</td>\n",
       "      <td>A good little session on COD before - complete...</td>\n",
       "    </tr>\n",
       "    <tr>\n",
       "      <th>4</th>\n",
       "      <td>1543</td>\n",
       "      <td>Battlefield</td>\n",
       "      <td>Thanks to Captain @R_FL3X last night as for th...</td>\n",
       "    </tr>\n",
       "    <tr>\n",
       "      <th>...</th>\n",
       "      <td>...</td>\n",
       "      <td>...</td>\n",
       "      <td>...</td>\n",
       "    </tr>\n",
       "    <tr>\n",
       "      <th>37335</th>\n",
       "      <td>6200</td>\n",
       "      <td>FIFA</td>\n",
       "      <td>Never been more disinterested here in Fifa and...</td>\n",
       "    </tr>\n",
       "    <tr>\n",
       "      <th>37336</th>\n",
       "      <td>2497</td>\n",
       "      <td>Borderlands</td>\n",
       "      <td>The best deals so far: FIFA 20 $18, Borderland...</td>\n",
       "    </tr>\n",
       "    <tr>\n",
       "      <th>37337</th>\n",
       "      <td>9608</td>\n",
       "      <td>PlayStation5(PS5)</td>\n",
       "      <td>God when...</td>\n",
       "    </tr>\n",
       "    <tr>\n",
       "      <th>37338</th>\n",
       "      <td>10134</td>\n",
       "      <td>PlayerUnknownsBattlegrounds(PUBG)</td>\n",
       "      <td>When . } Then .</td>\n",
       "    </tr>\n",
       "    <tr>\n",
       "      <th>37339</th>\n",
       "      <td>7563</td>\n",
       "      <td>LeagueOfLegends</td>\n",
       "      <td>ONE OF THE BEST ADCS - ' GOSU approved '. TFT ...</td>\n",
       "    </tr>\n",
       "  </tbody>\n",
       "</table>\n",
       "<p>37340 rows × 3 columns</p>\n",
       "</div>"
      ],
      "text/plain": [
       "        2401                        Borderlands  \\\n",
       "0       6822                    johnson&johnson   \n",
       "1       8286                          Microsoft   \n",
       "2       4322                              CS-GO   \n",
       "3       2329                         CallOfDuty   \n",
       "4       1543                        Battlefield   \n",
       "...      ...                                ...   \n",
       "37335   6200                               FIFA   \n",
       "37336   2497                        Borderlands   \n",
       "37337   9608                  PlayStation5(PS5)   \n",
       "37338  10134  PlayerUnknownsBattlegrounds(PUBG)   \n",
       "37339   7563                    LeagueOfLegends   \n",
       "\n",
       "      im getting on borderlands and i will murder you all ,  \n",
       "0      Offend Ugandan moms and soon become moms... Af...     \n",
       "1      in Apparently Microsoft is buying the TikTok, ...     \n",
       "2      . NEW VIDEO!.. Getting bullied again on CSGO.....     \n",
       "3      A good little session on COD before - complete...     \n",
       "4      Thanks to Captain @R_FL3X last night as for th...     \n",
       "...                                                  ...     \n",
       "37335  Never been more disinterested here in Fifa and...     \n",
       "37336  The best deals so far: FIFA 20 $18, Borderland...     \n",
       "37337                                        God when...     \n",
       "37338                                    When . } Then .     \n",
       "37339  ONE OF THE BEST ADCS - ' GOSU approved '. TFT ...     \n",
       "\n",
       "[37340 rows x 3 columns]"
      ]
     },
     "execution_count": 12,
     "metadata": {},
     "output_type": "execute_result"
    }
   ],
   "source": [
    "X"
   ]
  },
  {
   "cell_type": "code",
   "execution_count": 13,
   "id": "305b52eb-4403-4934-8338-5629160cd434",
   "metadata": {},
   "outputs": [
    {
     "data": {
      "text/plain": [
       "0        2\n",
       "1        1\n",
       "2        3\n",
       "3        0\n",
       "4        2\n",
       "        ..\n",
       "37335    1\n",
       "37336    3\n",
       "37337    1\n",
       "37338    3\n",
       "37339    3\n",
       "Name: Positive, Length: 37340, dtype: int64"
      ]
     },
     "execution_count": 13,
     "metadata": {},
     "output_type": "execute_result"
    }
   ],
   "source": [
    "Y"
   ]
  },
  {
   "cell_type": "code",
   "execution_count": 14,
   "id": "fd56824b-08f1-43b5-a48b-d81edd12f3d9",
   "metadata": {},
   "outputs": [],
   "source": [
    "# To change categorical data to numerical data  for purpose of replace null value\n",
    "# because imputation cannot replace categorical data null value "
   ]
  },
  {
   "cell_type": "markdown",
   "id": "e984691a-4bcc-4a15-81b3-a7a69c1bd3ca",
   "metadata": {},
   "source": [
    "# Feature encoding "
   ]
  },
  {
   "cell_type": "code",
   "execution_count": 15,
   "id": "417b5f2b",
   "metadata": {},
   "outputs": [
    {
     "data": {
      "text/html": [
       "<style>#sk-container-id-1 {color: black;}#sk-container-id-1 pre{padding: 0;}#sk-container-id-1 div.sk-toggleable {background-color: white;}#sk-container-id-1 label.sk-toggleable__label {cursor: pointer;display: block;width: 100%;margin-bottom: 0;padding: 0.3em;box-sizing: border-box;text-align: center;}#sk-container-id-1 label.sk-toggleable__label-arrow:before {content: \"▸\";float: left;margin-right: 0.25em;color: #696969;}#sk-container-id-1 label.sk-toggleable__label-arrow:hover:before {color: black;}#sk-container-id-1 div.sk-estimator:hover label.sk-toggleable__label-arrow:before {color: black;}#sk-container-id-1 div.sk-toggleable__content {max-height: 0;max-width: 0;overflow: hidden;text-align: left;background-color: #f0f8ff;}#sk-container-id-1 div.sk-toggleable__content pre {margin: 0.2em;color: black;border-radius: 0.25em;background-color: #f0f8ff;}#sk-container-id-1 input.sk-toggleable__control:checked~div.sk-toggleable__content {max-height: 200px;max-width: 100%;overflow: auto;}#sk-container-id-1 input.sk-toggleable__control:checked~label.sk-toggleable__label-arrow:before {content: \"▾\";}#sk-container-id-1 div.sk-estimator input.sk-toggleable__control:checked~label.sk-toggleable__label {background-color: #d4ebff;}#sk-container-id-1 div.sk-label input.sk-toggleable__control:checked~label.sk-toggleable__label {background-color: #d4ebff;}#sk-container-id-1 input.sk-hidden--visually {border: 0;clip: rect(1px 1px 1px 1px);clip: rect(1px, 1px, 1px, 1px);height: 1px;margin: -1px;overflow: hidden;padding: 0;position: absolute;width: 1px;}#sk-container-id-1 div.sk-estimator {font-family: monospace;background-color: #f0f8ff;border: 1px dotted black;border-radius: 0.25em;box-sizing: border-box;margin-bottom: 0.5em;}#sk-container-id-1 div.sk-estimator:hover {background-color: #d4ebff;}#sk-container-id-1 div.sk-parallel-item::after {content: \"\";width: 100%;border-bottom: 1px solid gray;flex-grow: 1;}#sk-container-id-1 div.sk-label:hover label.sk-toggleable__label {background-color: #d4ebff;}#sk-container-id-1 div.sk-serial::before {content: \"\";position: absolute;border-left: 1px solid gray;box-sizing: border-box;top: 0;bottom: 0;left: 50%;z-index: 0;}#sk-container-id-1 div.sk-serial {display: flex;flex-direction: column;align-items: center;background-color: white;padding-right: 0.2em;padding-left: 0.2em;position: relative;}#sk-container-id-1 div.sk-item {position: relative;z-index: 1;}#sk-container-id-1 div.sk-parallel {display: flex;align-items: stretch;justify-content: center;background-color: white;position: relative;}#sk-container-id-1 div.sk-item::before, #sk-container-id-1 div.sk-parallel-item::before {content: \"\";position: absolute;border-left: 1px solid gray;box-sizing: border-box;top: 0;bottom: 0;left: 50%;z-index: -1;}#sk-container-id-1 div.sk-parallel-item {display: flex;flex-direction: column;z-index: 1;position: relative;background-color: white;}#sk-container-id-1 div.sk-parallel-item:first-child::after {align-self: flex-end;width: 50%;}#sk-container-id-1 div.sk-parallel-item:last-child::after {align-self: flex-start;width: 50%;}#sk-container-id-1 div.sk-parallel-item:only-child::after {width: 0;}#sk-container-id-1 div.sk-dashed-wrapped {border: 1px dashed gray;margin: 0 0.4em 0.5em 0.4em;box-sizing: border-box;padding-bottom: 0.4em;background-color: white;}#sk-container-id-1 div.sk-label label {font-family: monospace;font-weight: bold;display: inline-block;line-height: 1.2em;}#sk-container-id-1 div.sk-label-container {text-align: center;}#sk-container-id-1 div.sk-container {/* jupyter's `normalize.less` sets `[hidden] { display: none; }` but bootstrap.min.css set `[hidden] { display: none !important; }` so we also need the `!important` here to be able to override the default hidden behavior on the sphinx rendered scikit-learn.org. See: https://github.com/scikit-learn/scikit-learn/issues/21755 */display: inline-block !important;position: relative;}#sk-container-id-1 div.sk-text-repr-fallback {display: none;}</style><div id=\"sk-container-id-1\" class=\"sk-top-container\"><div class=\"sk-text-repr-fallback\"><pre>OrdinalEncoder()</pre><b>In a Jupyter environment, please rerun this cell to show the HTML representation or trust the notebook. <br />On GitHub, the HTML representation is unable to render, please try loading this page with nbviewer.org.</b></div><div class=\"sk-container\" hidden><div class=\"sk-item\"><div class=\"sk-estimator sk-toggleable\"><input class=\"sk-toggleable__control sk-hidden--visually\" id=\"sk-estimator-id-1\" type=\"checkbox\" checked><label for=\"sk-estimator-id-1\" class=\"sk-toggleable__label sk-toggleable__label-arrow\">OrdinalEncoder</label><div class=\"sk-toggleable__content\"><pre>OrdinalEncoder()</pre></div></div></div></div></div>"
      ],
      "text/plain": [
       "OrdinalEncoder()"
      ]
     },
     "execution_count": 15,
     "metadata": {},
     "output_type": "execute_result"
    }
   ],
   "source": [
    "ordinal= OrdinalEncoder()\n",
    "ordinal_encode=ordinal.fit(X)\n",
    "ordinal_encode"
   ]
  },
  {
   "cell_type": "code",
   "execution_count": 16,
   "id": "218aea14-cc58-4a5c-aa71-1be7b3275b74",
   "metadata": {},
   "outputs": [
    {
     "data": {
      "text/plain": [
       "['D:/DS NOTE/my projects/files/train/model/ordinal_encode_model.pkl']"
      ]
     },
     "execution_count": 16,
     "metadata": {},
     "output_type": "execute_result"
    }
   ],
   "source": [
    "jb.dump(ordinal_encode,'D:/DS NOTE/my projects/files/train/model/ordinal_encode_model.pkl') "
   ]
  },
  {
   "cell_type": "code",
   "execution_count": 17,
   "id": "f0b30ba8",
   "metadata": {},
   "outputs": [
    {
     "data": {
      "text/html": [
       "<div>\n",
       "<style scoped>\n",
       "    .dataframe tbody tr th:only-of-type {\n",
       "        vertical-align: middle;\n",
       "    }\n",
       "\n",
       "    .dataframe tbody tr th {\n",
       "        vertical-align: top;\n",
       "    }\n",
       "\n",
       "    .dataframe thead th {\n",
       "        text-align: right;\n",
       "    }\n",
       "</style>\n",
       "<table border=\"1\" class=\"dataframe\">\n",
       "  <thead>\n",
       "    <tr style=\"text-align: right;\">\n",
       "      <th></th>\n",
       "      <th>2401</th>\n",
       "      <th>Borderlands</th>\n",
       "      <th>im getting on borderlands and i will murder you all ,</th>\n",
       "    </tr>\n",
       "  </thead>\n",
       "  <tbody>\n",
       "    <tr>\n",
       "      <th>0</th>\n",
       "      <td>6477.0</td>\n",
       "      <td>31.0</td>\n",
       "      <td>21624.0</td>\n",
       "    </tr>\n",
       "    <tr>\n",
       "      <th>1</th>\n",
       "      <td>7912.0</td>\n",
       "      <td>19.0</td>\n",
       "      <td>32855.0</td>\n",
       "    </tr>\n",
       "    <tr>\n",
       "      <th>2</th>\n",
       "      <td>4137.0</td>\n",
       "      <td>5.0</td>\n",
       "      <td>655.0</td>\n",
       "    </tr>\n",
       "    <tr>\n",
       "      <th>3</th>\n",
       "      <td>2236.0</td>\n",
       "      <td>6.0</td>\n",
       "      <td>6117.0</td>\n",
       "    </tr>\n",
       "    <tr>\n",
       "      <th>4</th>\n",
       "      <td>1467.0</td>\n",
       "      <td>3.0</td>\n",
       "      <td>25564.0</td>\n",
       "    </tr>\n",
       "    <tr>\n",
       "      <th>...</th>\n",
       "      <td>...</td>\n",
       "      <td>...</td>\n",
       "      <td>...</td>\n",
       "    </tr>\n",
       "    <tr>\n",
       "      <th>37335</th>\n",
       "      <td>5895.0</td>\n",
       "      <td>10.0</td>\n",
       "      <td>20691.0</td>\n",
       "    </tr>\n",
       "    <tr>\n",
       "      <th>37336</th>\n",
       "      <td>2398.0</td>\n",
       "      <td>4.0</td>\n",
       "      <td>26224.0</td>\n",
       "    </tr>\n",
       "    <tr>\n",
       "      <th>37337</th>\n",
       "      <td>9183.0</td>\n",
       "      <td>23.0</td>\n",
       "      <td>11905.0</td>\n",
       "    </tr>\n",
       "    <tr>\n",
       "      <th>37338</th>\n",
       "      <td>9684.0</td>\n",
       "      <td>24.0</td>\n",
       "      <td>29595.0</td>\n",
       "    </tr>\n",
       "    <tr>\n",
       "      <th>37339</th>\n",
       "      <td>7197.0</td>\n",
       "      <td>17.0</td>\n",
       "      <td>21571.0</td>\n",
       "    </tr>\n",
       "  </tbody>\n",
       "</table>\n",
       "<p>37340 rows × 3 columns</p>\n",
       "</div>"
      ],
      "text/plain": [
       "         2401  Borderlands  \\\n",
       "0      6477.0         31.0   \n",
       "1      7912.0         19.0   \n",
       "2      4137.0          5.0   \n",
       "3      2236.0          6.0   \n",
       "4      1467.0          3.0   \n",
       "...       ...          ...   \n",
       "37335  5895.0         10.0   \n",
       "37336  2398.0          4.0   \n",
       "37337  9183.0         23.0   \n",
       "37338  9684.0         24.0   \n",
       "37339  7197.0         17.0   \n",
       "\n",
       "       im getting on borderlands and i will murder you all ,  \n",
       "0                                                21624.0      \n",
       "1                                                32855.0      \n",
       "2                                                  655.0      \n",
       "3                                                 6117.0      \n",
       "4                                                25564.0      \n",
       "...                                                  ...      \n",
       "37335                                            20691.0      \n",
       "37336                                            26224.0      \n",
       "37337                                            11905.0      \n",
       "37338                                            29595.0      \n",
       "37339                                            21571.0      \n",
       "\n",
       "[37340 rows x 3 columns]"
      ]
     },
     "execution_count": 17,
     "metadata": {},
     "output_type": "execute_result"
    }
   ],
   "source": [
    "ordinal_encode=ordinal.transform(X)\n",
    "ordinal_encode_df=pd.DataFrame(ordinal_encode,columns=X.columns)\n",
    "ordinal_encode_df"
   ]
  },
  {
   "cell_type": "code",
   "execution_count": 18,
   "id": "54e13a0e-f7c4-4f13-a1e3-fce772b6e776",
   "metadata": {},
   "outputs": [],
   "source": [
    "ordinal_encode_df.to_csv('D:/DS NOTE/my projects/files/train/process/ordinal_encode_df_train.csv',index=False)"
   ]
  },
  {
   "cell_type": "markdown",
   "id": "2b6c244e-264b-4500-a010-2621ca87d387",
   "metadata": {},
   "source": [
    "# Null/na value can replace by using method of imputation "
   ]
  },
  {
   "cell_type": "code",
   "execution_count": 19,
   "id": "d3b5ffdb",
   "metadata": {},
   "outputs": [
    {
     "data": {
      "text/html": [
       "<style>#sk-container-id-2 {color: black;}#sk-container-id-2 pre{padding: 0;}#sk-container-id-2 div.sk-toggleable {background-color: white;}#sk-container-id-2 label.sk-toggleable__label {cursor: pointer;display: block;width: 100%;margin-bottom: 0;padding: 0.3em;box-sizing: border-box;text-align: center;}#sk-container-id-2 label.sk-toggleable__label-arrow:before {content: \"▸\";float: left;margin-right: 0.25em;color: #696969;}#sk-container-id-2 label.sk-toggleable__label-arrow:hover:before {color: black;}#sk-container-id-2 div.sk-estimator:hover label.sk-toggleable__label-arrow:before {color: black;}#sk-container-id-2 div.sk-toggleable__content {max-height: 0;max-width: 0;overflow: hidden;text-align: left;background-color: #f0f8ff;}#sk-container-id-2 div.sk-toggleable__content pre {margin: 0.2em;color: black;border-radius: 0.25em;background-color: #f0f8ff;}#sk-container-id-2 input.sk-toggleable__control:checked~div.sk-toggleable__content {max-height: 200px;max-width: 100%;overflow: auto;}#sk-container-id-2 input.sk-toggleable__control:checked~label.sk-toggleable__label-arrow:before {content: \"▾\";}#sk-container-id-2 div.sk-estimator input.sk-toggleable__control:checked~label.sk-toggleable__label {background-color: #d4ebff;}#sk-container-id-2 div.sk-label input.sk-toggleable__control:checked~label.sk-toggleable__label {background-color: #d4ebff;}#sk-container-id-2 input.sk-hidden--visually {border: 0;clip: rect(1px 1px 1px 1px);clip: rect(1px, 1px, 1px, 1px);height: 1px;margin: -1px;overflow: hidden;padding: 0;position: absolute;width: 1px;}#sk-container-id-2 div.sk-estimator {font-family: monospace;background-color: #f0f8ff;border: 1px dotted black;border-radius: 0.25em;box-sizing: border-box;margin-bottom: 0.5em;}#sk-container-id-2 div.sk-estimator:hover {background-color: #d4ebff;}#sk-container-id-2 div.sk-parallel-item::after {content: \"\";width: 100%;border-bottom: 1px solid gray;flex-grow: 1;}#sk-container-id-2 div.sk-label:hover label.sk-toggleable__label {background-color: #d4ebff;}#sk-container-id-2 div.sk-serial::before {content: \"\";position: absolute;border-left: 1px solid gray;box-sizing: border-box;top: 0;bottom: 0;left: 50%;z-index: 0;}#sk-container-id-2 div.sk-serial {display: flex;flex-direction: column;align-items: center;background-color: white;padding-right: 0.2em;padding-left: 0.2em;position: relative;}#sk-container-id-2 div.sk-item {position: relative;z-index: 1;}#sk-container-id-2 div.sk-parallel {display: flex;align-items: stretch;justify-content: center;background-color: white;position: relative;}#sk-container-id-2 div.sk-item::before, #sk-container-id-2 div.sk-parallel-item::before {content: \"\";position: absolute;border-left: 1px solid gray;box-sizing: border-box;top: 0;bottom: 0;left: 50%;z-index: -1;}#sk-container-id-2 div.sk-parallel-item {display: flex;flex-direction: column;z-index: 1;position: relative;background-color: white;}#sk-container-id-2 div.sk-parallel-item:first-child::after {align-self: flex-end;width: 50%;}#sk-container-id-2 div.sk-parallel-item:last-child::after {align-self: flex-start;width: 50%;}#sk-container-id-2 div.sk-parallel-item:only-child::after {width: 0;}#sk-container-id-2 div.sk-dashed-wrapped {border: 1px dashed gray;margin: 0 0.4em 0.5em 0.4em;box-sizing: border-box;padding-bottom: 0.4em;background-color: white;}#sk-container-id-2 div.sk-label label {font-family: monospace;font-weight: bold;display: inline-block;line-height: 1.2em;}#sk-container-id-2 div.sk-label-container {text-align: center;}#sk-container-id-2 div.sk-container {/* jupyter's `normalize.less` sets `[hidden] { display: none; }` but bootstrap.min.css set `[hidden] { display: none !important; }` so we also need the `!important` here to be able to override the default hidden behavior on the sphinx rendered scikit-learn.org. See: https://github.com/scikit-learn/scikit-learn/issues/21755 */display: inline-block !important;position: relative;}#sk-container-id-2 div.sk-text-repr-fallback {display: none;}</style><div id=\"sk-container-id-2\" class=\"sk-top-container\"><div class=\"sk-text-repr-fallback\"><pre>KNNImputer()</pre><b>In a Jupyter environment, please rerun this cell to show the HTML representation or trust the notebook. <br />On GitHub, the HTML representation is unable to render, please try loading this page with nbviewer.org.</b></div><div class=\"sk-container\" hidden><div class=\"sk-item\"><div class=\"sk-estimator sk-toggleable\"><input class=\"sk-toggleable__control sk-hidden--visually\" id=\"sk-estimator-id-2\" type=\"checkbox\" checked><label for=\"sk-estimator-id-2\" class=\"sk-toggleable__label sk-toggleable__label-arrow\">KNNImputer</label><div class=\"sk-toggleable__content\"><pre>KNNImputer()</pre></div></div></div></div></div>"
      ],
      "text/plain": [
       "KNNImputer()"
      ]
     },
     "execution_count": 19,
     "metadata": {},
     "output_type": "execute_result"
    }
   ],
   "source": [
    "\n",
    "knn=KNNImputer()\n",
    "knn_impute=knn.fit(ordinal_encode_df)\n",
    "knn_impute"
   ]
  },
  {
   "cell_type": "code",
   "execution_count": 20,
   "id": "d4d61c1f-b6b0-477f-beea-a151a9d4e884",
   "metadata": {},
   "outputs": [
    {
     "data": {
      "text/plain": [
       "['D:/DS NOTE/my projects/files/train/model/knn_impute_model.pkl']"
      ]
     },
     "execution_count": 20,
     "metadata": {},
     "output_type": "execute_result"
    }
   ],
   "source": [
    "jb.dump(knn_impute,'D:/DS NOTE/my projects/files/train/model/knn_impute_model.pkl') \n"
   ]
  },
  {
   "cell_type": "code",
   "execution_count": 21,
   "id": "52d138aa",
   "metadata": {},
   "outputs": [
    {
     "data": {
      "text/html": [
       "<div>\n",
       "<style scoped>\n",
       "    .dataframe tbody tr th:only-of-type {\n",
       "        vertical-align: middle;\n",
       "    }\n",
       "\n",
       "    .dataframe tbody tr th {\n",
       "        vertical-align: top;\n",
       "    }\n",
       "\n",
       "    .dataframe thead th {\n",
       "        text-align: right;\n",
       "    }\n",
       "</style>\n",
       "<table border=\"1\" class=\"dataframe\">\n",
       "  <thead>\n",
       "    <tr style=\"text-align: right;\">\n",
       "      <th></th>\n",
       "      <th>2401</th>\n",
       "      <th>Borderlands</th>\n",
       "      <th>im getting on borderlands and i will murder you all ,</th>\n",
       "    </tr>\n",
       "  </thead>\n",
       "  <tbody>\n",
       "    <tr>\n",
       "      <th>0</th>\n",
       "      <td>6477.0</td>\n",
       "      <td>31.0</td>\n",
       "      <td>21624.0</td>\n",
       "    </tr>\n",
       "    <tr>\n",
       "      <th>1</th>\n",
       "      <td>7912.0</td>\n",
       "      <td>19.0</td>\n",
       "      <td>32855.0</td>\n",
       "    </tr>\n",
       "    <tr>\n",
       "      <th>2</th>\n",
       "      <td>4137.0</td>\n",
       "      <td>5.0</td>\n",
       "      <td>655.0</td>\n",
       "    </tr>\n",
       "    <tr>\n",
       "      <th>3</th>\n",
       "      <td>2236.0</td>\n",
       "      <td>6.0</td>\n",
       "      <td>6117.0</td>\n",
       "    </tr>\n",
       "    <tr>\n",
       "      <th>4</th>\n",
       "      <td>1467.0</td>\n",
       "      <td>3.0</td>\n",
       "      <td>25564.0</td>\n",
       "    </tr>\n",
       "    <tr>\n",
       "      <th>...</th>\n",
       "      <td>...</td>\n",
       "      <td>...</td>\n",
       "      <td>...</td>\n",
       "    </tr>\n",
       "    <tr>\n",
       "      <th>37335</th>\n",
       "      <td>5895.0</td>\n",
       "      <td>10.0</td>\n",
       "      <td>20691.0</td>\n",
       "    </tr>\n",
       "    <tr>\n",
       "      <th>37336</th>\n",
       "      <td>2398.0</td>\n",
       "      <td>4.0</td>\n",
       "      <td>26224.0</td>\n",
       "    </tr>\n",
       "    <tr>\n",
       "      <th>37337</th>\n",
       "      <td>9183.0</td>\n",
       "      <td>23.0</td>\n",
       "      <td>11905.0</td>\n",
       "    </tr>\n",
       "    <tr>\n",
       "      <th>37338</th>\n",
       "      <td>9684.0</td>\n",
       "      <td>24.0</td>\n",
       "      <td>29595.0</td>\n",
       "    </tr>\n",
       "    <tr>\n",
       "      <th>37339</th>\n",
       "      <td>7197.0</td>\n",
       "      <td>17.0</td>\n",
       "      <td>21571.0</td>\n",
       "    </tr>\n",
       "  </tbody>\n",
       "</table>\n",
       "<p>37340 rows × 3 columns</p>\n",
       "</div>"
      ],
      "text/plain": [
       "         2401  Borderlands  \\\n",
       "0      6477.0         31.0   \n",
       "1      7912.0         19.0   \n",
       "2      4137.0          5.0   \n",
       "3      2236.0          6.0   \n",
       "4      1467.0          3.0   \n",
       "...       ...          ...   \n",
       "37335  5895.0         10.0   \n",
       "37336  2398.0          4.0   \n",
       "37337  9183.0         23.0   \n",
       "37338  9684.0         24.0   \n",
       "37339  7197.0         17.0   \n",
       "\n",
       "       im getting on borderlands and i will murder you all ,  \n",
       "0                                                21624.0      \n",
       "1                                                32855.0      \n",
       "2                                                  655.0      \n",
       "3                                                 6117.0      \n",
       "4                                                25564.0      \n",
       "...                                                  ...      \n",
       "37335                                            20691.0      \n",
       "37336                                            26224.0      \n",
       "37337                                            11905.0      \n",
       "37338                                            29595.0      \n",
       "37339                                            21571.0      \n",
       "\n",
       "[37340 rows x 3 columns]"
      ]
     },
     "execution_count": 21,
     "metadata": {},
     "output_type": "execute_result"
    }
   ],
   "source": [
    "knn_impute=knn.transform(ordinal_encode_df)\n",
    "knn_impute_df=pd.DataFrame(knn_impute,columns=ordinal_encode_df.columns)\n",
    "knn_impute_df"
   ]
  },
  {
   "cell_type": "code",
   "execution_count": 22,
   "id": "59c4eeb0",
   "metadata": {},
   "outputs": [],
   "source": [
    "knn_impute_df.to_csv('D:/DS NOTE/my projects/files/train/process/knn_impute_df_train.csv',index=False)\n"
   ]
  },
  {
   "cell_type": "code",
   "execution_count": 23,
   "id": "0edb4e7d-105f-4ab0-a697-73d65bbb8ad9",
   "metadata": {},
   "outputs": [
    {
     "data": {
      "text/plain": [
       "2401                                                     0\n",
       "Borderlands                                              0\n",
       "im getting on borderlands and i will murder you all ,    0\n",
       "dtype: int64"
      ]
     },
     "execution_count": 23,
     "metadata": {},
     "output_type": "execute_result"
    }
   ],
   "source": [
    "# After imputation null can replace ,\n",
    "knn_impute_df.isnull().sum()"
   ]
  },
  {
   "cell_type": "markdown",
   "id": "3eb9759e-3d5d-4c99-a443-243ab26df071",
   "metadata": {},
   "source": [
    "# Outlier detecting by boxplot \n"
   ]
  },
  {
   "cell_type": "code",
   "execution_count": 24,
   "id": "ef27d999-c874-4b90-b0c5-5c0fa8d04783",
   "metadata": {},
   "outputs": [
    {
     "data": {
      "image/png": "[encoded data removed]",
      "text/plain": [
       "<Figure size 1000x500 with 1 Axes>"
      ]
     },
     "metadata": {},
     "output_type": "display_data"
    }
   ],
   "source": [
    "plt.figure(figsize=(10,5))\n",
    "sns.boxplot(knn_impute_df)\n",
    "plt.show()"
   ]
  },
  {
   "cell_type": "code",
   "execution_count": 25,
   "id": "9d948aad-4f84-43ae-bae3-b8ef1daecf8f",
   "metadata": {},
   "outputs": [
    {
     "data": {
      "image/png": "[encoded data removed]",
      "text/plain": [
       "<Figure size 800x800 with 1 Axes>"
      ]
     },
     "metadata": {},
     "output_type": "display_data"
    }
   ],
   "source": [
    "plt.figure(figsize=(8,8))\n",
    "sns.boxplot(Y)\n",
    "plt.show()"
   ]
  },
  {
   "cell_type": "code",
   "execution_count": 26,
   "id": "fa9b7059-077f-42a2-9373-ddcfb39bbf5a",
   "metadata": {},
   "outputs": [],
   "source": [
    "# there is no outlier in this data set "
   ]
  },
  {
   "cell_type": "code",
   "execution_count": 27,
   "id": "e5917682-01f3-40c1-9535-2b99043f29e0",
   "metadata": {},
   "outputs": [],
   "source": [
    "# Compute pairwise correlation of columns, excluding NA/null values"
   ]
  },
  {
   "cell_type": "code",
   "execution_count": 28,
   "id": "cd7a8518-0d77-4a29-9610-0a008cae74c6",
   "metadata": {},
   "outputs": [],
   "source": [
    "combined_df = pd.concat([knn_impute_df, Y], axis=1)\n",
    "correlation_matrix = combined_df.corr()"
   ]
  },
  {
   "cell_type": "code",
   "execution_count": 29,
   "id": "59ab0567-d422-45fb-a41f-d60ab1e2cef5",
   "metadata": {},
   "outputs": [
    {
     "data": {
      "image/png": "[encoded data removed]",
      "text/plain": [
       "<Figure size 800x600 with 2 Axes>"
      ]
     },
     "metadata": {},
     "output_type": "display_data"
    }
   ],
   "source": [
    "plt.figure(figsize=(8, 6))\n",
    "sns.heatmap(correlation_matrix, annot=True, cmap=\"coolwarm\")\n",
    "plt.title(\"Correlation Heatmap between X and Y\")\n",
    "plt.show()"
   ]
  },
  {
   "cell_type": "code",
   "execution_count": 30,
   "id": "0ec0ce74-89d9-49ac-9d03-f2ccf77413e3",
   "metadata": {},
   "outputs": [],
   "source": [
    "x_train,x_test,y_train,y_test=train_test_split(knn_impute_df,Y,train_size=0.5,shuffle=True ,random_state=120)"
   ]
  },
  {
   "cell_type": "code",
   "execution_count": 31,
   "id": "a7be5b86-dfdf-4f43-91b1-4b1ff678d9fd",
   "metadata": {},
   "outputs": [],
   "source": [
    "x_train.to_csv('D:/DS NOTE/my projects/files/train/raw/x_train.csv',index=False)\n",
    "y_train.to_csv('D:/DS NOTE/my projects/files/train/raw/y_train.csv',index=False)"
   ]
  },
  {
   "cell_type": "code",
   "execution_count": 32,
   "id": "f20726f8-a845-4fbc-a6ee-8d76e5301f58",
   "metadata": {},
   "outputs": [],
   "source": [
    "x_test.to_csv('D:/DS NOTE/my projects/files/evaluate/raw/x_test.csv',index=False)\n",
    "y_test.to_csv('D:/DS NOTE/my projects/files/evaluate/raw/y_test.csv',index=False)"
   ]
  },
  {
   "cell_type": "markdown",
   "id": "c2d3032c-c72e-466d-9b1e-ae032f6af0fa",
   "metadata": {},
   "source": [
    "# Model training "
   ]
  },
  {
   "cell_type": "code",
   "execution_count": 33,
   "id": "d8b05a3f-c870-444a-89ce-1c770c944461",
   "metadata": {},
   "outputs": [
    {
     "name": "stdout",
     "output_type": "stream",
     "text": [
      "Train score: 92.07885178297619\n"
     ]
    }
   ],
   "source": [
    "\n",
    "rf=RandomForestRegressor()\n",
    "rf.fit(x_train,y_train)\n",
    "print('Train score:',rf.score(x_train,y_train)* 100)  "
   ]
  },
  {
   "cell_type": "code",
   "execution_count": 34,
   "id": "9876b110-c026-468b-9ba5-2ae7056a0857",
   "metadata": {},
   "outputs": [
    {
     "data": {
      "text/plain": [
       "['D:/DS NOTE/my projects/files/train/model/rf.pkl']"
      ]
     },
     "execution_count": 34,
     "metadata": {},
     "output_type": "execute_result"
    }
   ],
   "source": [
    "jb.dump(rf,'D:/DS NOTE/my projects/files/train/model/rf.pkl')\n"
   ]
  },
  {
   "cell_type": "markdown",
   "id": "0ccb6079-15af-4733-afed-c5ebd41559fe",
   "metadata": {},
   "source": [
    "# Model Hyperparameter tunning"
   ]
  },
  {
   "cell_type": "markdown",
   "id": "64b1aad4-c5f0-4475-b25e-28303a553076",
   "metadata": {},
   "source": [
    "# Prediction"
   ]
  },
  {
   "cell_type": "code",
   "execution_count": 35,
   "id": "dbf469e1-9ebf-4cde-9b8a-88bd153c4c05",
   "metadata": {},
   "outputs": [],
   "source": [
    "##load x test and y test \n",
    "imputer_model=jb.load('D:/DS NOTE/my projects/files/train/model/knn_impute_model.pkl') \n",
    "encode_model=jb.load('D:/DS NOTE/my projects/files/train/model/ordinal_encode_model.pkl') \n",
    "model=jb.load('D:/DS NOTE/my projects/files/train/model/rf.pkl')"
   ]
  },
  {
   "cell_type": "code",
   "execution_count": 36,
   "id": "0e3ff2f6-78d2-46d2-aae9-20eecc1a742e",
   "metadata": {},
   "outputs": [
    {
     "data": {
      "text/html": [
       "<div>\n",
       "<style scoped>\n",
       "    .dataframe tbody tr th:only-of-type {\n",
       "        vertical-align: middle;\n",
       "    }\n",
       "\n",
       "    .dataframe tbody tr th {\n",
       "        vertical-align: top;\n",
       "    }\n",
       "\n",
       "    .dataframe thead th {\n",
       "        text-align: right;\n",
       "    }\n",
       "</style>\n",
       "<table border=\"1\" class=\"dataframe\">\n",
       "  <thead>\n",
       "    <tr style=\"text-align: right;\">\n",
       "      <th></th>\n",
       "      <th>0</th>\n",
       "    </tr>\n",
       "  </thead>\n",
       "  <tbody>\n",
       "    <tr>\n",
       "      <th>0</th>\n",
       "      <td>2.30</td>\n",
       "    </tr>\n",
       "    <tr>\n",
       "      <th>1</th>\n",
       "      <td>0.96</td>\n",
       "    </tr>\n",
       "    <tr>\n",
       "      <th>2</th>\n",
       "      <td>1.87</td>\n",
       "    </tr>\n",
       "    <tr>\n",
       "      <th>3</th>\n",
       "      <td>0.70</td>\n",
       "    </tr>\n",
       "    <tr>\n",
       "      <th>4</th>\n",
       "      <td>1.94</td>\n",
       "    </tr>\n",
       "    <tr>\n",
       "      <th>...</th>\n",
       "      <td>...</td>\n",
       "    </tr>\n",
       "    <tr>\n",
       "      <th>18665</th>\n",
       "      <td>0.72</td>\n",
       "    </tr>\n",
       "    <tr>\n",
       "      <th>18666</th>\n",
       "      <td>1.23</td>\n",
       "    </tr>\n",
       "    <tr>\n",
       "      <th>18667</th>\n",
       "      <td>0.80</td>\n",
       "    </tr>\n",
       "    <tr>\n",
       "      <th>18668</th>\n",
       "      <td>2.69</td>\n",
       "    </tr>\n",
       "    <tr>\n",
       "      <th>18669</th>\n",
       "      <td>0.55</td>\n",
       "    </tr>\n",
       "  </tbody>\n",
       "</table>\n",
       "<p>18670 rows × 1 columns</p>\n",
       "</div>"
      ],
      "text/plain": [
       "          0\n",
       "0      2.30\n",
       "1      0.96\n",
       "2      1.87\n",
       "3      0.70\n",
       "4      1.94\n",
       "...     ...\n",
       "18665  0.72\n",
       "18666  1.23\n",
       "18667  0.80\n",
       "18668  2.69\n",
       "18669  0.55\n",
       "\n",
       "[18670 rows x 1 columns]"
      ]
     },
     "execution_count": 36,
     "metadata": {},
     "output_type": "execute_result"
    }
   ],
   "source": [
    "y_pred = pd.DataFrame(model.predict(x_test))\n",
    "y_pred "
   ]
  },
  {
   "cell_type": "code",
   "execution_count": 39,
   "id": "0b4df4c7-6c31-4706-83bd-a1d26457cec3",
   "metadata": {},
   "outputs": [
    {
     "name": "stdout",
     "output_type": "stream",
     "text": [
      "              precision    recall  f1-score   support\n",
      "\n",
      "           0       0.89      0.40      0.56      5281\n",
      "           1       0.34      0.98      0.50      5621\n",
      "           2       0.00      0.00      0.00      3174\n",
      "           3       0.00      0.00      0.00      4594\n",
      "\n",
      "    accuracy                           0.41     18670\n",
      "   macro avg       0.31      0.35      0.26     18670\n",
      "weighted avg       0.35      0.41      0.31     18670\n",
      "\n"
     ]
    },
    {
     "data": {
      "text/plain": [
       "<sklearn.metrics._plot.confusion_matrix.ConfusionMatrixDisplay at 0x2b81e899960>"
      ]
     },
     "execution_count": 39,
     "metadata": {},
     "output_type": "execute_result"
    },
    {
     "data": {
      "image/png": "[encoded data removed]",
      "text/plain": [
       "<Figure size 640x480 with 2 Axes>"
      ]
     },
     "metadata": {},
     "output_type": "display_data"
    }
   ],
   "source": [
    "from sklearn.metrics import classification_report, confusion_matrix, ConfusionMatrixDisplay\n",
    "import numpy as np\n",
    "\n",
    "# Convert continuous predictions to class labels using a threshold\n",
    "threshold = 0.5\n",
    "y_pred_labels = np.where(y_pred >= threshold, 1, 0)  # Adjust for your threshold and classes\n",
    "\n",
    "# Calculate classification metrics\n",
    "classification_rep = classification_report(y_test, y_pred_labels)\n",
    "print(classification_rep)\n",
    "\n",
    "# Calculate confusion matrix\n",
    "cm = confusion_matrix(y_test, y_pred_labels)\n",
    "\n",
    "# Display confusion matrix\n",
    "disp = ConfusionMatrixDisplay(confusion_matrix=cm)\n",
    "disp.plot()\n"
   ]
  }
 ],
 "metadata": {
  "kernelspec": {
   "display_name": "Python 3 (ipykernel)",
   "language": "python",
   "name": "python3"
  },
  "language_info": {
   "codemirror_mode": {
    "name": "ipython",
    "version": 3
   },
   "file_extension": ".py",
   "mimetype": "text/x-python",
   "name": "python",
   "nbconvert_exporter": "python",
   "pygments_lexer": "ipython3",
   "version": "3.10.11"
  }
 },
 "nbformat": 4,
 "nbformat_minor": 5
}
